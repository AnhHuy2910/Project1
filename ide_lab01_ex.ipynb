{
 "cells": [
  {
   "cell_type": "markdown",
   "id": "054f17ed",
   "metadata": {},
   "source": [
    "# Lab 02 - Bài tập"
   ]
  },
  {
   "cell_type": "markdown",
   "id": "d093f5b3",
   "metadata": {},
   "source": [
    "--- \n",
    "\n",
    "## THÔNG TIN\n",
    "\n",
    "- Họ tên: \n",
    "- MSV:\n",
    "- Ngày hoàn thành:"
   ]
  },
  {
   "cell_type": "markdown",
   "id": "e63fbe23",
   "metadata": {},
   "source": [
    "---\n",
    "## NUMPY\n",
    "\n",
    "Bạn hãy phát sinh ngẫu nhiên mảng ndarray có tên `arr` gồm 100 phần tử số nguyên có giá trị từ 0..1000. Thực hiện các thao tác sau:"
   ]
  },
  {
   "cell_type": "markdown",
   "id": "f462030f",
   "metadata": {},
   "source": [
    "### 1. Hiển thị các phần tử thỏa yêu cầu dưới đây\n",
    "\n",
    "- 10 phần tử đầu tiên\n",
    "- 5 phần tử cuối cùng\n",
    "- Các phần tử thỏa mãn điều kiện chia hết cho 5 và lớn hơn 100"
   ]
  },
  {
   "cell_type": "code",
   "execution_count": null,
   "id": "c785d08d",
   "metadata": {},
   "outputs": [],
   "source": []
  },
  {
   "cell_type": "markdown",
   "id": "1cd7cd06",
   "metadata": {},
   "source": [
    "### 2. Cho biết mảng trên có bao nhiêu phần tử có giá trị nhỏ hơn 100. Hiển thị các phần tử đó"
   ]
  },
  {
   "cell_type": "code",
   "execution_count": null,
   "id": "e45b320d",
   "metadata": {},
   "outputs": [],
   "source": []
  },
  {
   "cell_type": "markdown",
   "id": "93cf52fa",
   "metadata": {},
   "source": [
    "### 3. Thực hiện thống kê:\n",
    "\n",
    "- Tính tổng mảng\n",
    "- Tìm giá trị trung bình\n",
    "- Tìm giá trị trung vị\n",
    "- Tìm Q1, Q2, Q3\n",
    "- Tìm phân vị 20 (percentile 20)"
   ]
  },
  {
   "cell_type": "code",
   "execution_count": null,
   "id": "51d2ec6c",
   "metadata": {},
   "outputs": [],
   "source": []
  },
  {
   "cell_type": "markdown",
   "id": "e4eb6cc6",
   "metadata": {},
   "source": [
    "---\n",
    "\n",
    "## PANDAS"
   ]
  },
  {
   "cell_type": "markdown",
   "id": "01e2bed7",
   "metadata": {},
   "source": [
    "Thông tin các bộ dữ liệu:\n",
    "\n",
    "- `car-sales.csv`: bộ dữ liệu chứa thông tin của các ôtô cũ ở một cửa hàng\n"
   ]
  },
  {
   "cell_type": "markdown",
   "id": "9314552d",
   "metadata": {},
   "source": [
    "### 1. Đọc dữ liệu"
   ]
  },
  {
   "cell_type": "code",
   "execution_count": null,
   "id": "47ca9dc8",
   "metadata": {},
   "outputs": [],
   "source": [
    "# YOUR CODE HERE"
   ]
  },
  {
   "cell_type": "markdown",
   "id": "06a61507",
   "metadata": {},
   "source": [
    "### 2. Dữ liệu có bao nhiêu dòng, bao nhiêu cột\n",
    "\n",
    "Đáp án: (10 dòng, 5 cột)"
   ]
  },
  {
   "cell_type": "code",
   "execution_count": null,
   "id": "a18bcab5",
   "metadata": {},
   "outputs": [],
   "source": [
    "# YOUR CODE HERE"
   ]
  },
  {
   "cell_type": "markdown",
   "id": "506c2c6c",
   "metadata": {},
   "source": [
    "- Định tính (phân loại): Manufacturer, Colour\n",
    "- Định lượng: Odemeter, Price, Doors"
   ]
  },
  {
   "cell_type": "code",
   "execution_count": null,
   "id": "d7563796",
   "metadata": {},
   "outputs": [],
   "source": [
    "# YOUR CODE HERE"
   ]
  },
  {
   "cell_type": "markdown",
   "id": "0e06a27b",
   "metadata": {},
   "source": [
    "### 3. Trong dữ liệu có thông tin của bao nhiêu xe?\n",
    "\n",
    "Đáp án: 10 xe"
   ]
  },
  {
   "cell_type": "code",
   "execution_count": null,
   "id": "d2223d39",
   "metadata": {},
   "outputs": [],
   "source": [
    "# YOUR CODE HERE"
   ]
  },
  {
   "cell_type": "markdown",
   "id": "9fab6bd4",
   "metadata": {},
   "source": [
    "### 4. Đếm số xe theo theo hãng\n",
    "\n",
    "Đáp án: Toyota: 10 xe, Honda: 3 xe, Nissan: 2 xe, BMW: 1 xe"
   ]
  },
  {
   "cell_type": "code",
   "execution_count": null,
   "id": "ff20c98e",
   "metadata": {},
   "outputs": [],
   "source": [
    "# YOUR CODE HERE"
   ]
  },
  {
   "cell_type": "markdown",
   "id": "8a29bdc4",
   "metadata": {},
   "source": [
    "### 5. Đếm số xe theo màu\n"
   ]
  },
  {
   "cell_type": "code",
   "execution_count": null,
   "id": "e303e538",
   "metadata": {},
   "outputs": [],
   "source": [
    "# YOUR CODE HERE"
   ]
  },
  {
   "cell_type": "markdown",
   "id": "7c911d06",
   "metadata": {},
   "source": [
    "### 6. Tổng giá trị các xe trong cửa hàng\n",
    "\n",
    "Đáp án: 76450 USD\n"
   ]
  },
  {
   "cell_type": "code",
   "execution_count": null,
   "id": "67f87531",
   "metadata": {},
   "outputs": [],
   "source": [
    "# YOUR CODE HERE"
   ]
  },
  {
   "cell_type": "markdown",
   "id": "6050e3b0",
   "metadata": {},
   "source": [
    "### 7. Top 3 xe có giá cao nhất\n"
   ]
  },
  {
   "cell_type": "code",
   "execution_count": null,
   "id": "be72996a",
   "metadata": {},
   "outputs": [],
   "source": [
    "# YOUR CODE HERE"
   ]
  },
  {
   "cell_type": "markdown",
   "id": "8f6cc9c2",
   "metadata": {},
   "source": [
    "### 8. Top 3 xe đã chạy nhiều cây số (km)nhất (Odometer)\n",
    "\n",
    "Đáp án:\n",
    "- Xe Nissan, White, 213095 km\n",
    "- Xe Toyota, White, 150043 km\n",
    "- Xe Toyota, Green, 99213 km"
   ]
  },
  {
   "cell_type": "code",
   "execution_count": null,
   "id": "ae2e8c30",
   "metadata": {},
   "outputs": [],
   "source": [
    "# YOUR CODE HERE"
   ]
  },
  {
   "cell_type": "markdown",
   "id": "ffc04c82",
   "metadata": {},
   "source": [
    "### 9. Khảo sát xe của hãng Honda\n",
    "\n",
    "- Tính tỷ lệ xe Honda trong dữ liệu của cửa hàng (0.3)\n",
    "- Cho biết giá trung bình của xe hãng Honda của cửa hàng (6500)\n",
    "- Cho biết các xe của hãng Honda trong cửa hàng có những màu sắc nào (Red, Blue)"
   ]
  },
  {
   "cell_type": "code",
   "execution_count": null,
   "id": "e2c234f5",
   "metadata": {},
   "outputs": [],
   "source": [
    "# YOUR CODE HERE"
   ]
  },
  {
   "cell_type": "markdown",
   "id": "852ceeba",
   "metadata": {},
   "source": [
    "### 10. Tính toán các giá trị sau của  thuộc tính giá ('Price')\n",
    "\n",
    "- Giá trung bình các xe (7645)\n",
    "- Giá trị trung vị các xe (6625)\n",
    "- Miền giá trị của xe (18500)\n",
    "- Miền phân vị của xe (2750)\n",
    "- Điểm phân vị 0.4 và 0.6 của giá ([5750, 7000])"
   ]
  },
  {
   "cell_type": "code",
   "execution_count": null,
   "id": "f43fe1ac",
   "metadata": {},
   "outputs": [],
   "source": [
    "# YOUR CODE HERE"
   ]
  },
  {
   "cell_type": "markdown",
   "id": "f97c2d3c",
   "metadata": {},
   "source": [
    "---"
   ]
  }
 ],
 "metadata": {
  "kernelspec": {
   "display_name": "Python 3 (ipykernel)",
   "language": "python",
   "name": "python3"
  },
  "language_info": {
   "codemirror_mode": {
    "name": "ipython",
    "version": 3
   },
   "file_extension": ".py",
   "mimetype": "text/x-python",
   "name": "python",
   "nbconvert_exporter": "python",
   "pygments_lexer": "ipython3",
   "version": "3.9.7"
  }
 },
 "nbformat": 4,
 "nbformat_minor": 5
}
